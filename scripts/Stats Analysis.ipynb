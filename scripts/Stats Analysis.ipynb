{
 "cells": [
  {
   "cell_type": "code",
   "execution_count": 11,
   "metadata": {},
   "outputs": [],
   "source": [
    "# read ans process files \n",
    "\n",
    "import pandas as pd\n",
    "import numpy as np\n",
    "import json\n",
    "import csv\n",
    "import re\n",
    "\n",
    "\n",
    "\n"
   ]
  },
  {
   "cell_type": "code",
   "execution_count": 12,
   "metadata": {},
   "outputs": [
    {
     "data": {
      "text/html": [
       "<div>\n",
       "<style scoped>\n",
       "    .dataframe tbody tr th:only-of-type {\n",
       "        vertical-align: middle;\n",
       "    }\n",
       "\n",
       "    .dataframe tbody tr th {\n",
       "        vertical-align: top;\n",
       "    }\n",
       "\n",
       "    .dataframe thead th {\n",
       "        text-align: right;\n",
       "    }\n",
       "</style>\n",
       "<table border=\"1\" class=\"dataframe\">\n",
       "  <thead>\n",
       "    <tr style=\"text-align: right;\">\n",
       "      <th></th>\n",
       "      <th>TweetID</th>\n",
       "      <th>Sentiment</th>\n",
       "      <th>TopicID</th>\n",
       "      <th>Country</th>\n",
       "      <th>Gender</th>\n",
       "      <th>URLs</th>\n",
       "      <th>Created_at</th>\n",
       "      <th>Text</th>\n",
       "      <th>Source</th>\n",
       "      <th>in_reply_to_status_id_str</th>\n",
       "      <th>...</th>\n",
       "      <th>User_id</th>\n",
       "      <th>User_name</th>\n",
       "      <th>User_location</th>\n",
       "      <th>User_followers_count</th>\n",
       "      <th>Coordinates</th>\n",
       "      <th>quoted_status_id_str</th>\n",
       "      <th>is_quote_status</th>\n",
       "      <th>Entities_hashtags</th>\n",
       "      <th>Entities_urls</th>\n",
       "      <th>LDA_Topic</th>\n",
       "    </tr>\n",
       "  </thead>\n",
       "  <tbody>\n",
       "    <tr>\n",
       "      <th>0</th>\n",
       "      <td>1099404026</td>\n",
       "      <td>neutral</td>\n",
       "      <td>NaN</td>\n",
       "      <td>ca</td>\n",
       "      <td>male</td>\n",
       "      <td>https://en.wikipedia.org/wiki/Internet_of_Things</td>\n",
       "      <td>Tue Jan 06 13:22:32 +0000 2009</td>\n",
       "      <td>The Internet of Things. L'internet des objets....</td>\n",
       "      <td>&lt;a href=\"http://twitter.com\" rel=\"nofollow\"&gt;Tw...</td>\n",
       "      <td>NaN</td>\n",
       "      <td>...</td>\n",
       "      <td>14350762</td>\n",
       "      <td>Jacques Cool</td>\n",
       "      <td>Montréal, Québec</td>\n",
       "      <td>10126</td>\n",
       "      <td>NaN</td>\n",
       "      <td>NaN</td>\n",
       "      <td>False</td>\n",
       "      <td>False</td>\n",
       "      <td>NaN</td>\n",
       "      <td>-1</td>\n",
       "    </tr>\n",
       "    <tr>\n",
       "      <th>1</th>\n",
       "      <td>1099881858</td>\n",
       "      <td>neutral</td>\n",
       "      <td>2</td>\n",
       "      <td>gb</td>\n",
       "      <td>andy</td>\n",
       "      <td>NaN</td>\n",
       "      <td>Tue Jan 06 17:20:36 +0000 2009</td>\n",
       "      <td>programming mirroir and nabaztag... Internet o...</td>\n",
       "      <td>&lt;a href=\"http://twitter.com\" rel=\"nofollow\"&gt;Tw...</td>\n",
       "      <td>NaN</td>\n",
       "      <td>...</td>\n",
       "      <td>12318782</td>\n",
       "      <td>alezante</td>\n",
       "      <td>London, England</td>\n",
       "      <td>1641</td>\n",
       "      <td>NaN</td>\n",
       "      <td>NaN</td>\n",
       "      <td>False</td>\n",
       "      <td>False</td>\n",
       "      <td>NaN</td>\n",
       "      <td>-1</td>\n",
       "    </tr>\n",
       "    <tr>\n",
       "      <th>2</th>\n",
       "      <td>1104012014</td>\n",
       "      <td>neutral</td>\n",
       "      <td>1</td>\n",
       "      <td>be</td>\n",
       "      <td>male</td>\n",
       "      <td>NaN</td>\n",
       "      <td>Thu Jan 08 09:08:26 +0000 2009</td>\n",
       "      <td>aha mycrocosm integration &amp; internet of things...</td>\n",
       "      <td>&lt;a href=\"http://twitter.com\" rel=\"nofollow\"&gt;Tw...</td>\n",
       "      <td>NaN</td>\n",
       "      <td>...</td>\n",
       "      <td>16113118</td>\n",
       "      <td>Dries De Roeck</td>\n",
       "      <td>Antwerp, Belgium</td>\n",
       "      <td>1298</td>\n",
       "      <td>NaN</td>\n",
       "      <td>NaN</td>\n",
       "      <td>False</td>\n",
       "      <td>False</td>\n",
       "      <td>NaN</td>\n",
       "      <td>-1</td>\n",
       "    </tr>\n",
       "    <tr>\n",
       "      <th>3</th>\n",
       "      <td>1104556075</td>\n",
       "      <td>neutral</td>\n",
       "      <td>0</td>\n",
       "      <td>it</td>\n",
       "      <td>andy</td>\n",
       "      <td>NaN</td>\n",
       "      <td>Thu Jan 08 15:34:16 +0000 2009</td>\n",
       "      <td>The concept is basically The Internet of Things</td>\n",
       "      <td>&lt;a href=\"http://twitter.com\" rel=\"nofollow\"&gt;Tw...</td>\n",
       "      <td>NaN</td>\n",
       "      <td>...</td>\n",
       "      <td>18074191</td>\n",
       "      <td>Zeugmamedia</td>\n",
       "      <td>Florence, Italy</td>\n",
       "      <td>87</td>\n",
       "      <td>NaN</td>\n",
       "      <td>NaN</td>\n",
       "      <td>False</td>\n",
       "      <td>False</td>\n",
       "      <td>NaN</td>\n",
       "      <td>-1</td>\n",
       "    </tr>\n",
       "    <tr>\n",
       "      <th>4</th>\n",
       "      <td>1104557021</td>\n",
       "      <td>neutral</td>\n",
       "      <td>2</td>\n",
       "      <td>it</td>\n",
       "      <td>andy</td>\n",
       "      <td>NaN</td>\n",
       "      <td>Thu Jan 08 15:34:51 +0000 2009</td>\n",
       "      <td>As I see the evolution: Internet of Websites -...</td>\n",
       "      <td>&lt;a href=\"http://twitter.com\" rel=\"nofollow\"&gt;Tw...</td>\n",
       "      <td>NaN</td>\n",
       "      <td>...</td>\n",
       "      <td>18074191</td>\n",
       "      <td>Zeugmamedia</td>\n",
       "      <td>Florence, Italy</td>\n",
       "      <td>87</td>\n",
       "      <td>NaN</td>\n",
       "      <td>NaN</td>\n",
       "      <td>False</td>\n",
       "      <td>False</td>\n",
       "      <td>NaN</td>\n",
       "      <td>-1</td>\n",
       "    </tr>\n",
       "  </tbody>\n",
       "</table>\n",
       "<p>5 rows × 21 columns</p>\n",
       "</div>"
      ],
      "text/plain": [
       "      TweetID Sentiment TopicID Country Gender  \\\n",
       "0  1099404026   neutral     NaN      ca   male   \n",
       "1  1099881858   neutral       2      gb   andy   \n",
       "2  1104012014   neutral       1      be   male   \n",
       "3  1104556075   neutral       0      it   andy   \n",
       "4  1104557021   neutral       2      it   andy   \n",
       "\n",
       "                                               URLs  \\\n",
       "0  https://en.wikipedia.org/wiki/Internet_of_Things   \n",
       "1                                               NaN   \n",
       "2                                               NaN   \n",
       "3                                               NaN   \n",
       "4                                               NaN   \n",
       "\n",
       "                       Created_at  \\\n",
       "0  Tue Jan 06 13:22:32 +0000 2009   \n",
       "1  Tue Jan 06 17:20:36 +0000 2009   \n",
       "2  Thu Jan 08 09:08:26 +0000 2009   \n",
       "3  Thu Jan 08 15:34:16 +0000 2009   \n",
       "4  Thu Jan 08 15:34:51 +0000 2009   \n",
       "\n",
       "                                                Text  \\\n",
       "0  The Internet of Things. L'internet des objets....   \n",
       "1  programming mirroir and nabaztag... Internet o...   \n",
       "2  aha mycrocosm integration & internet of things...   \n",
       "3    The concept is basically The Internet of Things   \n",
       "4  As I see the evolution: Internet of Websites -...   \n",
       "\n",
       "                                              Source  \\\n",
       "0  <a href=\"http://twitter.com\" rel=\"nofollow\">Tw...   \n",
       "1  <a href=\"http://twitter.com\" rel=\"nofollow\">Tw...   \n",
       "2  <a href=\"http://twitter.com\" rel=\"nofollow\">Tw...   \n",
       "3  <a href=\"http://twitter.com\" rel=\"nofollow\">Tw...   \n",
       "4  <a href=\"http://twitter.com\" rel=\"nofollow\">Tw...   \n",
       "\n",
       "  in_reply_to_status_id_str  ...   User_id       User_name     User_location  \\\n",
       "0                       NaN  ...  14350762    Jacques Cool  Montréal, Québec   \n",
       "1                       NaN  ...  12318782        alezante   London, England   \n",
       "2                       NaN  ...  16113118  Dries De Roeck  Antwerp, Belgium   \n",
       "3                       NaN  ...  18074191     Zeugmamedia   Florence, Italy   \n",
       "4                       NaN  ...  18074191     Zeugmamedia   Florence, Italy   \n",
       "\n",
       "  User_followers_count Coordinates quoted_status_id_str is_quote_status  \\\n",
       "0                10126         NaN                  NaN           False   \n",
       "1                 1641         NaN                  NaN           False   \n",
       "2                 1298         NaN                  NaN           False   \n",
       "3                   87         NaN                  NaN           False   \n",
       "4                   87         NaN                  NaN           False   \n",
       "\n",
       "  Entities_hashtags Entities_urls LDA_Topic  \n",
       "0             False           NaN        -1  \n",
       "1             False           NaN        -1  \n",
       "2             False           NaN        -1  \n",
       "3             False           NaN        -1  \n",
       "4             False           NaN        -1  \n",
       "\n",
       "[5 rows x 21 columns]"
      ]
     },
     "execution_count": 12,
     "metadata": {},
     "output_type": "execute_result"
    }
   ],
   "source": [
    "df = pd.read_csv('iot-light.tsv',sep='\\t', na_values=['null','None','',], dtype=object)\n",
    "df.fillna('')\n",
    "df.head(5)\n"
   ]
  },
  {
   "cell_type": "code",
   "execution_count": 13,
   "metadata": {},
   "outputs": [
    {
     "data": {
      "text/plain": [
       "array(['-1', '4', '5', '0', '3'], dtype=object)"
      ]
     },
     "execution_count": 13,
     "metadata": {},
     "output_type": "execute_result"
    }
   ],
   "source": [
    "df['LDA_Topic'].unique()"
   ]
  },
  {
   "cell_type": "markdown",
   "metadata": {},
   "source": [
    "# Users"
   ]
  },
  {
   "cell_type": "code",
   "execution_count": 14,
   "metadata": {},
   "outputs": [],
   "source": [
    "topic_x = df[df['LDA_Topic']=='5'] ;"
   ]
  },
  {
   "cell_type": "code",
   "execution_count": 15,
   "metadata": {},
   "outputs": [
    {
     "data": {
      "text/plain": [
       "Gender\n",
       "andy           1\n",
       "mostly_male    1\n",
       "Name: TweetID, dtype: int64"
      ]
     },
     "execution_count": 15,
     "metadata": {},
     "output_type": "execute_result"
    }
   ],
   "source": [
    "topic_x.groupby('Gender').count()['TweetID']"
   ]
  },
  {
   "cell_type": "code",
   "execution_count": 16,
   "metadata": {
    "scrolled": true
   },
   "outputs": [
    {
     "data": {
      "text/plain": [
       "Series([], Name: Country, dtype: object)"
      ]
     },
     "execution_count": 16,
     "metadata": {},
     "output_type": "execute_result"
    }
   ],
   "source": [
    "#topic_x[topic_x['Gender']=='male'][['Country', 'User_location', 'Coordinates']]\n",
    "topic_x[topic_x['Gender']=='male']['Country']"
   ]
  },
  {
   "cell_type": "code",
   "execution_count": null,
   "metadata": {},
   "outputs": [],
   "source": [
    "df.columns"
   ]
  },
  {
   "cell_type": "markdown",
   "metadata": {},
   "source": [
    "Tableau"
   ]
  },
  {
   "cell_type": "code",
   "execution_count": 18,
   "metadata": {},
   "outputs": [],
   "source": [
    "topic_0 = df[df['LDA_Topic']=='0'] ;\n",
    "topic_1 = df[df['LDA_Topic']=='1'] ;\n",
    "topic_2 = df[df['LDA_Topic']=='2'] ;\n",
    "topic_3 = df[df['LDA_Topic']=='3'] ;\n",
    "topic_4 = df[df['LDA_Topic']=='4'] ;\n",
    "topic_5 = df[df['LDA_Topic']=='5'] ;"
   ]
  },
  {
   "cell_type": "markdown",
   "metadata": {},
   "source": [
    "Nb tweets par topics"
   ]
  },
  {
   "cell_type": "code",
   "execution_count": 21,
   "metadata": {},
   "outputs": [
    {
     "name": "stdout",
     "output_type": "stream",
     "text": [
      "1\n",
      "0\n",
      "0\n",
      "1\n",
      "26\n",
      "2\n"
     ]
    }
   ],
   "source": [
    "print(topic_0.count()['TweetID'])\n",
    "print(topic_1.count()['TweetID'])\n",
    "print(topic_2.count()['TweetID'])\n",
    "print(topic_3.count()['TweetID'])\n",
    "print(topic_4.count()['TweetID'])\n",
    "print(topic_5.count()['TweetID'])"
   ]
  },
  {
   "cell_type": "markdown",
   "metadata": {},
   "source": [
    "nb reponse par topics"
   ]
  },
  {
   "cell_type": "code",
   "execution_count": 57,
   "metadata": {},
   "outputs": [
    {
     "name": "stdout",
     "output_type": "stream",
     "text": [
      "1\n",
      "0\n",
      "0\n",
      "1\n",
      "23\n",
      "1\n"
     ]
    }
   ],
   "source": [
    "nbr_0 = 0\n",
    "for index,row in topic_0.iterrows():\n",
    "    a = str(row['in_reply_to_status_id_str'])\n",
    "    if len(a) > 5:\n",
    "        nbr_0 = nbr_0 + 1\n",
    "print (nbr_0)\n",
    "\n",
    "nbr_1 = 0\n",
    "for index,row in topic_1.iterrows():\n",
    "    a = str(row['in_reply_to_status_id_str'])\n",
    "    if len(a) > 5:\n",
    "        nbr_1 = nbr_1 + 1\n",
    "print (nbr_1)\n",
    "\n",
    "nbr_2 = 0\n",
    "for index,row in topic_2.iterrows():\n",
    "    a = str(row['in_reply_to_status_id_str'])\n",
    "    if len(a) > 5:\n",
    "        nbr_2 = nbr_2 + 1\n",
    "print (nbr_2)\n",
    "\n",
    "nbr_3 = 0\n",
    "for index,row in topic_3.iterrows():\n",
    "    a = str(row['in_reply_to_status_id_str'])\n",
    "    if len(a) > 5:\n",
    "        nbr_3 = nbr_3 + 1\n",
    "print (nbr_3)\n",
    "\n",
    "nbr_4= 0\n",
    "for index,row in topic_4.iterrows():\n",
    "    a = str(row['in_reply_to_status_id_str'])\n",
    "    if len(a) > 5:\n",
    "        nbr_4 = nbr_4 + 1\n",
    "print (nbr_4)\n",
    "\n",
    "nbr_5= 0\n",
    "for index,row in topic_5.iterrows():\n",
    "    a = str(row['in_reply_to_status_id_str'])\n",
    "    if len(a) > 5:\n",
    "        nbr_5 = nbr_5 + 1\n",
    "print (nbr_5)\n"
   ]
  },
  {
   "cell_type": "markdown",
   "metadata": {},
   "source": [
    "nb tweets d'influencers"
   ]
  },
  {
   "cell_type": "code",
   "execution_count": 59,
   "metadata": {},
   "outputs": [
    {
     "name": "stdout",
     "output_type": "stream",
     "text": [
      "227\n",
      "0\n"
     ]
    }
   ],
   "source": [
    "nbi_0 = 0\n",
    "for index,row in topic_0.iterrows():\n",
    "    print(row['User_followers_count'])\n",
    "    if int(row['User_followers_count']) > 1000:\n",
    "        nbi_0 = nbi_0 + 1\n",
    "print (nbi_0)"
   ]
  },
  {
   "cell_type": "markdown",
   "metadata": {},
   "source": [
    "# Sentiment"
   ]
  },
  {
   "cell_type": "code",
   "execution_count": 43,
   "metadata": {},
   "outputs": [
    {
     "data": {
      "text/plain": [
       "Sentiment\n",
       "negative      410\n",
       "neutral     16382\n",
       "positive     1352\n",
       "Name: TweetID, dtype: int64"
      ]
     },
     "execution_count": 43,
     "metadata": {},
     "output_type": "execute_result"
    }
   ],
   "source": [
    "#topic_x = df[df['LDA_Topic']=='5'] ;\n",
    "topic_x.groupby('Sentiment').count()['TweetID']"
   ]
  },
  {
   "cell_type": "markdown",
   "metadata": {},
   "source": [
    "# Hashtags"
   ]
  },
  {
   "cell_type": "code",
   "execution_count": 63,
   "metadata": {},
   "outputs": [
    {
     "data": {
      "text/plain": [
       "[14089, 1289, 998, 625, 451, 401, 314]"
      ]
     },
     "execution_count": 63,
     "metadata": {},
     "output_type": "execute_result"
    }
   ],
   "source": [
    "#topic_x = df[df['LDA_Topic']=='5'] ;\n",
    "dict_ht = {}\n",
    "total_ht = []\n",
    "for index,row in topic_x.iterrows():\n",
    "    #l_ht = []\n",
    "    for word in row['Text'].split():\n",
    "        if word[0] == '#':\n",
    "            #l_ht.append(word)\n",
    "            total_ht.append(word.lower())\n",
    "    #print(row['Text'].split())\n",
    "\n",
    "#Creating an empty dictionary  \n",
    "freq = {} \n",
    "for item in total_ht: \n",
    "    if (item in freq): \n",
    "        freq[item] += 1\n",
    "    else: \n",
    "        freq[item] = 1\n",
    "\n",
    "sorted_x = sorted(freq.items(), key=lambda kv: kv[1], reverse=True)\n",
    "#[ x[0] for x in sorted_x[0:7] ]\n",
    "[ x[1] for x in sorted_x[0:7] ]"
   ]
  },
  {
   "cell_type": "markdown",
   "metadata": {},
   "source": [
    "# Time series"
   ]
  },
  {
   "cell_type": "code",
   "execution_count": 26,
   "metadata": {},
   "outputs": [],
   "source": [
    "from datetime import datetime"
   ]
  },
  {
   "cell_type": "code",
   "execution_count": 66,
   "metadata": {},
   "outputs": [],
   "source": [
    "dictM = {\n",
    "    'Jan' : '01',\n",
    "    'Feb' : '02',\n",
    "    'Mar' : '03',\n",
    "    'Apr' : '04',\n",
    "    'May' : '05',\n",
    "    'Jun' : '06',\n",
    "    'Jul' : '07',\n",
    "    'Aug' : '08',\n",
    "    'Sep' : '09',\n",
    "    'Oct' : '10',\n",
    "    'Nov' : '11',\n",
    "    'Dec' : '12',\n",
    "}"
   ]
  },
  {
   "cell_type": "code",
   "execution_count": 105,
   "metadata": {},
   "outputs": [],
   "source": [
    "#topic_x = df[df['LDA_Topic']=='5'] ;\n",
    "tfreq = {}\n",
    "for row in topic_x['Created_at'] :\n",
    "    dt = row.split()\n",
    "    #t = dt[2]+' '+dt[1]+' '+dt[-1]\n",
    "    t = (dictM[dt[1]],dt[-1])\n",
    "    if t in tfreq :\n",
    "        tfreq[t] += 1\n",
    "    else:\n",
    "        tfreq[t] = 1\n",
    "    #print(t)\n",
    "    #t = datetime.strptime(row, '%d %m %y ')\n",
    "    # dd MMM yyyy HH:mm:ss\n",
    "    #t = datetime.fromtimestamp(row)\n",
    "    #print(t)"
   ]
  },
  {
   "cell_type": "code",
   "execution_count": null,
   "metadata": {},
   "outputs": [],
   "source": [
    "#tfreq\n",
    "#[ [x[0],x[1]] for x in tfreq ]\n",
    "[ tfreq[x] for x in tfreq ]"
   ]
  },
  {
   "cell_type": "markdown",
   "metadata": {},
   "source": [
    "## Users time series"
   ]
  },
  {
   "cell_type": "code",
   "execution_count": 139,
   "metadata": {},
   "outputs": [],
   "source": [
    "topic_x = df[df['LDA_Topic']=='5'] ;\n",
    "    \n",
    "tfreq = {}\n",
    "for a,row in topic_x[['Created_at', 'User_id']].iterrows() :\n",
    "    #print(row)\n",
    "    dt = row['Created_at'].split()\n",
    "    un = row['User_id']\n",
    "    #t = dt[2]+' '+dt[1]+' '+dt[-1]\n",
    "    t = dt[1]+' '+dt[-1]\n",
    "    if t in tfreq :\n",
    "        if not row['User_id'] in tfreq[t] :\n",
    "            tfreq[t].append(un)\n",
    "    else:\n",
    "        tfreq[t] = [un]"
   ]
  },
  {
   "cell_type": "code",
   "execution_count": 140,
   "metadata": {
    "scrolled": true
   },
   "outputs": [
    {
     "name": "stdout",
     "output_type": "stream",
     "text": [
      "[\n",
      "2 ,\n",
      "2 ,\n",
      "3 ,\n",
      "4 ,\n",
      "3 ,\n",
      "1 ,\n",
      "1 ,\n",
      "1 ,\n",
      "3 ,\n",
      "2 ,\n",
      "4 ,\n",
      "1 ,\n",
      "3 ,\n",
      "1 ,\n",
      "2 ,\n",
      "8 ,\n",
      "3 ,\n",
      "1 ,\n",
      "7 ,\n",
      "2 ,\n",
      "2 ,\n",
      "8 ,\n",
      "6 ,\n",
      "2 ,\n",
      "1 ,\n",
      "10 ,\n",
      "6 ,\n",
      "7 ,\n",
      "11 ,\n",
      "11 ,\n",
      "6 ,\n",
      "8 ,\n",
      "7 ,\n",
      "16 ,\n",
      "15 ,\n",
      "4 ,\n",
      "11 ,\n",
      "15 ,\n",
      "13 ,\n",
      "14 ,\n",
      "21 ,\n",
      "12 ,\n",
      "32 ,\n",
      "40 ,\n",
      "65 ,\n",
      "59 ,\n",
      "71 ,\n",
      "58 ,\n",
      "56 ,\n",
      "120 ,\n",
      "132 ,\n",
      "114 ,\n",
      "137 ,\n",
      "231 ,\n",
      "175 ,\n",
      "241 ,\n",
      "262 ,\n",
      "267 ,\n",
      "294 ,\n",
      "277 ,\n",
      "318 ,\n",
      "314 ,\n",
      "399 ,\n",
      "330 ,\n",
      "384 ,\n",
      "471 ,\n",
      "526 ,\n",
      "635 ,\n",
      "514 ,\n",
      "430 ,\n",
      "455 ,\n",
      "376 ,\n",
      "369 ,\n",
      "354 ,\n",
      "352 ,\n",
      "282 ,\n",
      "240 ,\n",
      "348 ,\n",
      "355 ,\n",
      "343 ,\n",
      "340 ,\n",
      "327 ,\n",
      "305 ,\n",
      "283 ,\n",
      "288 ,\n",
      "290 ,\n",
      "308 ,\n",
      "269 ,\n",
      "231 ,\n",
      "]\n"
     ]
    }
   ],
   "source": [
    "print(\"[\")\n",
    "for k,v in tfreq.items() :\n",
    "    dd= k.split()\n",
    "    #print([dd[0], len(v)])\n",
    "    #print([dictM[dd[0]],dd[1]], \",\")\n",
    "    print(len(v),\",\")\n",
    "print(\"]\")"
   ]
  },
  {
   "cell_type": "markdown",
   "metadata": {},
   "source": [
    "#  Sample Text"
   ]
  },
  {
   "cell_type": "code",
   "execution_count": 150,
   "metadata": {},
   "outputs": [
    {
     "name": "stdout",
     "output_type": "stream",
     "text": [
      "Topic  0\n",
      "6248077                           The 50 Most Influential Women in #IoT  https://t.co/6uQzvJnQfU … … #womenintech  @evankirstel https://t.co/0sXhARl0EU\n",
      "2672519                                          @Things_Internet bye bye wired connectivity way to represent #IoT #wireless activity #wirelesscharging\n",
      "4796057    @nanoview @adamajacoby @FinancialReview let's add #AI and #IoT .Oh and the census data which is now compulsory ($100 fine/day) and public...\n",
      "2388681           .@SamHetchler Thanks for the link Sam! All you #IoT devs out there check out http://t.co/IRqmKEDPjg including https://t.co/fkuzCvXy3B\n",
      "1277948                     \"Innovation in the #IoT space has been happening all around the world. #Europe has been very active\" http://t.co/4okv3AgZpK\n",
      "3281829          .@AutomationGT Robo-Prius carpools and robo-deliveries could fight traffic congestion and reduce the need for parking #IoT #automation\n",
      "1388330              @joannaonthelake INTERESTING, TNX! stay up2date #IoT #Wearabletech #innovation? Join Wearable Valley on #fbnhttp://t.co/TJa3PTHPL8\n",
      "2603726                                                                                             @rhtrevino predicting an #IoT slugfest? Can't wait.\n",
      "2306854                       @reeldrive Checkout the #InternetofThings #IoT @reeldata Booth SL13117 @NABShow @nabtweets #NAB2015 #NABShow2015 #NABShow\n",
      "2983489             RT @slashdot: Honeywell Home Controllers Open To Any Hacker Who Can Find Them Online http://t.co/wP3GTLOyzt #InternetOfThings  #IoT\n",
      "4644586              @improve_group Business will also need to ramp up their storage capacities with the increase in data brought by #bigdata and #IoT!\n",
      "3360204        Reliability touches everyone and every department! http://t.co/Av6ENQCwMo #bigdata #industrialinternet #Iot #IIot http://t.co/tXHg5258ik\n",
      "5197707                                                                      @BuzzFeedIndia @amazon Thank you for the feature!n#Rewind #smartwatch #IoT\n",
      "268945                @HaroldVerh I need more time to understand what it really does. Will look into it. Thanks #iot http://t.co/DXHcyevX9b @Clickslide\n",
      "1553200                                              “@chrismatthieu: Manuvr glove close-up at @iotphx! #IoT http://t.co/qvx3S3kgoM” #NewAgeElectronics\n",
      "Name: Text, dtype: object\n",
      "Topic  1\n",
      "4742279       @hwayoung “Data! Data!”he cried impatiently. “I can’t make bricks without clay.” - SherlockHolmes @amcewen #IoT  can https://t.co/xFkqCEE0uA\n",
      "3003870                                                          @ArgosHelpers noted ROFL - that would be a great relief! Stuff the internet of things eh?\n",
      "1639211                              @TMobileHelp No other carrier. Just as a WiFi hotspot for Internet of Things. How do I get rid of the t-mobile block?\n",
      "5066124        @punirajah So do you think Big Data is more user centric as traditional IT deployments / projects? #designthinking #IoT #analytics #saschat\n",
      "5346397    @jcanosa @SMC_on_IoT Great but am wondering if data &amp; analysis are what we could do from #iot. Am wondering if we could leverage it further\n",
      "6378744       @GE_Digital acq of @ServiceMax fits- #IoT managed service today then provide more #automation in the future #GEMM16… https://t.co/wBNwJMV19L\n",
      "4447811          Good #IoT list! RT @ValaAfshar The #IoT will have a total economic impact of up to $11 trillion by 2025. #HIMSS16 https://t.co/URSRz4VzaQ\n",
      "3118482        Q2: What are the security and data privacy obstacles lingering with an ever-growing connected world? #IoTuesday #IoT http://t.co/1cNOC5dH4S\n",
      "4780677       @postenterprise Agreed #DigitiseEU is about #openstandards so smaller #cloud #IoT #BigData &amp; #egov services x-border for greater impact.\n",
      "3393412                                     Google wants Glass-like headsets with holographic displays http://t.co/hDGtgJi6Vn #iot #wearable #m2m #bigdata\n",
      "122928                                        @glyndot We ran an article last week which featured similar concepts/sentiments... http://t.co/alWf7j4z #iot\n",
      "4965297       @iotworldnews Our CEO Tim and Director of Application Development @TommyRadtke had a great time in Santa Clara! #IoT https://t.co/LkqBLxKL0l\n",
      "768323             RT @satyanadella @narendramodi Cities harnessing &amp; utilizing data to power people &amp; improve safety: #IoT http://t.co/cecHACfIFu\n",
      "2728634          Great #IoT idea RT @verge: Land Rover wants to make a car that will alert other drivers whenever it hits a pothole http://t.co/CszeyvdkHu\n",
      "3768587                                                              @seyeson two thumbs up. Did you review any peep hole cameras in your article? ;) #IoT\n",
      "Name: Text, dtype: object\n",
      "Topic  2\n",
      "2386590                                                                                     @duncanjw AGREED! Context is still key to making #IoT data!\n",
      "2420754                   Rt @jkeller1959: @ChipDowning of Wind River speaks about UAV communications http://t.co/3DcZg85e9m #unmanned #Conference #iot\n",
      "685634                                                                                @FoCoStartupWeek #IoT AG panels on smart air, dirt water. #genius\n",
      "5120751        @channelsmart #IoT is #channel greenfield. Don't miss out #futuremaker @nemanij @ChaudhryFarhana @WritingMan26 @VZEnterprise @strategyJC\n",
      "1772570    @NextWebUS :The patented Swarm-T #Code is vital for  #IoT #M2M #platforms &amp; s/d networks! https://t.co/Ca4sm2oEO7 http://t.co/pu77haWZBq\n",
      "825829                                  I'm trying to make @reidcarlberg jealous @arduino #arduinoEnvy #IoT #SalesforcePhoneHome http://t.co/BIPlNP0xg4\n",
      "4319013                                            @piton201017 @YouTube January is a race car has 200+ sensors, delivering 1,000 channels of data #IoT\n",
      "3044657    @HuddersfieldUni @TheDukeOfYork P@P 4.0 focus the Internet of Things + Smart Cities, services that are helping to create a smarter world Sir\n",
      "3330224                                                              @ciscoapac Very interesting use of sensors and #IoT in sports. Thanks for sharing!\n",
      "3063836     My Rancilio Silvia automatically powers up for 1 hour every time I come home. #homeautomation #IoT #esp8266 #arduino http://t.co/ZGhsamY5rL\n",
      "236563     .@sutiandong Love the graphic. Have you heard of #DDS? See here for why we think DDS should be in the #IoT landscape: http://t.co/1C1xUGPmBc\n",
      "5680908               @rsprasad - See how @PromptSoftech is using #IoT #tech to tackle inefficiencies in the dairy supply chain https://t.co/XZjhakkyr1\n",
      "868171                           Internet of Things Laid Bare: 25 Security Flaws Per Device http://t.co/eN9vHbr2Zn via @InfosecurityMag  #cybersecurity\n",
      "731473                                          @GregMox @NatureNews In need of better sensors in the air and at sea for surveillance #InternetOfThings\n",
      "2983674          \"@TheIoT: IoT to generate 20 trillion gigabytes.. https://t.co/bgjOwhh0dn #IoT\" ..hope data storage companies catchup with this speed!\n",
      "Name: Text, dtype: object\n",
      "Topic  3\n",
      "725411           MT .@ARMCommunity #Computex Day2 w/ .@andyframe_ARM: .@simonsegars at CEO Summit #ARM Partners talk #WEARABLES http://t.co/iYhKlnw7Xv #IoT\n",
      "1493111         \"How the Industrial #Internet of Things will Support Future Supply Chains\" @steve_scm @Forbes @PTC #SupplyChain #SCh #Logistics #Operations\n",
      "1142062                                    There is still much to understand around #IoT. It is barely in it's infancy.  #IBMInsight http://t.co/lY2gCqBmxz\n",
      "1442956                           Favouritism “@GarethDaviesRM: Thank you @exchangewire for my bed side table tracking beacon. #IoT http://t.co/GOkbXMdcek”\n",
      "4029152                .@HeartSisters Wow, fascinating thxs for tip. Better written than many on the topic. #aging #smarthome #IoT  https://t.co/Pb5kaqp6Rv\n",
      "2660897                       @yiannismaos Will be my pleasure to read you! Make sure to have a #digitalhealth tab for your #IoT blog it's a booming trend!\n",
      "1248783    The developer's role in automotive #IoT feat. @JayGiraud @AppsAlliance @Ford &amp; @Applico http://t.co/Q0NnNmm8wS #CCELA #ConnectedCar #FordDev\n",
      "321757                                                                                  We are happy to announce that finally, Paraimpu is a #startup. #IoT\n",
      "3008839                                                                       Respell: I'm 4 #IoT as \"communicationist\" 4 the community but not a communist\n",
      "4012291          @jpnKevin_T @saschasegan You couldn't hack your other trip to extend it all? :-)  Oh, well... seems like a lot of the CES focus is on #IoT\n",
      "2866082                                                                                   1/ IOT platforms is becoming an overloaded term in the #iot space\n",
      "3127906                                                                                   @HopeFrank if they were, it would scare Joe public away from #IoT\n",
      "1149799                                                      The information lifecycle for #IoT - a new article on GigaOM by #RedHat http://t.co/PXqLAvRaUl\n",
      "3816589     @glanceclock 100% agree; #ambientorb was ahead of its time, a precursor to #IoT meeting #visualization &amp; #design. Excited to see you launch\n",
      "897408            The connected product - our innovation team joined this with @salesforce #servicecloud http://t.co/zxEi7cD5u7 #iot http://t.co/4xtOOJHJXA\n",
      "Name: Text, dtype: object\n",
      "Topic  4\n",
      "2706246                        @mashable Wow! Great use of insights and #IoT .. This is such a great idea for the water conscious but forgettable ones :)!!\n",
      "5500783        @Cisco_IoT A6b In the real world however is there a strategy for digitization? What's the retailer doing w/the data? Many variables #IoTchat\n",
      "1596564     Check out @nokianetworks #IoT &amp; #telcocloud launches in the run up to #MWC15 http://t.co/EfTDNFFEAy #NetworksPerform http://t.co/euYFIjyGgE\n",
      "1801665             \"@AmancioBouza: The #InternetOfThings in 4 Charts: http://t.co/27qe0jVlsg\" #klout70 #IoT #klouttips @jasonburrows @wittier @NatSchooler\n",
      "6691208                                                           For the #privacy conscious, a way to wipe the disk(s) clean. #IoT https://t.co/jXuoBiy28c\n",
      "1023523          @techUK smarthomes the list is endless - all linking to the Internet of things. There needs to be a long term plan, no short term politics\n",
      "2725920    Leaving my laptop behind &amp; deciding to read a book, is as difficult as sitting on the cushion to meditate! How could #IoT   help me on this?\n",
      "5947430                 MLB Data Lake… Play Ball! ▸ https://t.co/m0Y2iCVhpa #IoT #M2M #API #Hadoop #BigData #DataLake #BI #ML #IoT… https://t.co/Hca6d86i0I\n",
      "2872331           Baby pajamas is a health monitor that provides parents with real time information about their baby, this aims to prevent SIDSr#iotfy #iot\n",
      "1673215                                                                     @jimkokocki Spot on Jim - increasing usage &amp; adoption with #IoT @ValaAfshar\n",
      "1176                                                                                                                @betseyross thanks 4 the RT!! #sgp #iot\n",
      "4832558                My FAVORITE thing about #IoT: People don't yet know what they don't know. Voyage of discovery. @jenstirrup @IDGTechTalk @kmurphy8080\n",
      "2723885                                                                 #Microsoft and #Toshiba team up on next-gen #IoT solutions - http://t.co/4fLG6BVtJY\n",
      "6284997        Yes @FastCoExist nHey @aseidman it's the feedback loop and verification source for the mapping #IoT nPrinciple is most of the world is built\n",
      "6606276                                                 @TheIoT The race is on to create real-time alcohol monitoring wearable https://t.co/GjolCzp44W #IoT\n",
      "Name: Text, dtype: object\n",
      "Topic  5\n"
     ]
    },
    {
     "name": "stdout",
     "output_type": "stream",
     "text": [
      "5893560             RT @AndreaSDPiazza Understading #customerexperience journey is key to leverage #IoT and data collected from touchpoints #CX #HBRwebinar\n",
      "5558511        @Street_Insider #BuyDips Stay #LoNG #FB #Facebook is a BeAST! #BEASTMODE #247365 #Algorithm #IOT #Connect #World #iG https://t.co/65vrSxCToU\n",
      "611888     MT .@M2MWORLDNEWS #TELIT ILS &amp; Jasper Collaborate to help #Mobile Operators Deliver Innovative #IoT Applications #M2M http://t.co/MjDDj9tWOH\n",
      "3697250          Why @salesforce and #IoT? Trusted, Secure, Agile, Open API’s, Partner approach ISV’s and SI's, Proven - Continuous innovation and upgrades\n",
      "3225835                “@securityaffairs: #Hacking Baby Monitors is dramatically easynhttps://t.co/WuSV10HnFyn#securityaffairs #BabyMonitors #IoT” #InfoSec\n",
      "3067683                                        @SCMatSAP Have a look into our new Cloud Trial for SAP Networked Logistics Hub #IoT - http://t.co/qocggIr04H\n",
      "802449                                                                    $10,000 For Anyone Who Can Hack A Tesla Car http://t.co/oXcI6zCIKX @medialab #IoT\n",
      "783677                       Be great to see carriers support LTE-M now too. Via @Miguel_Nasr: Sierra Wireless invests in LTE-M http://t.co/FbhJk2sUqO #IoT\n",
      "4436611    @abhijit116 2/2 What #IoT specific is in @pulp_platform? Don't mind if there is none at this point. Lets be open to accurately state &amp; show.\n",
      "593336                   Thanks! MT @UVicCompSci: Congrats on investment to build world's smartest coastline! #internetofthings #IoT http://t.co/7ZTkfY21t4\n",
      "2278141                           RT @duanepaulson: Garage Door Controller from @NortekControl featured in @USATODAY http://t.co/nFhA5KjXt6 #smarthome #IoT\n",
      "5303123              44% of corporate #IT budgets in 2020 will be dedicated to #IoTn#CIO #CTO #CDO nRT@ValaAfsharn@manoj2409 @manikantsinghr @kamalkarnatak\n",
      "293427           @tyronerubin @Estimote RTLS has a hard past ∵ RF μ-location is tricky. In general, hacking the real word for #IoT should be a last resort.\n",
      "4299615                                                          @Things_Internet @automatskicorp will help them @UNSW provided funds #IoT #InernetofThings\n",
      "5861681                          The output of the #Twitter / #IoT connected vending machine is https://t.co/qm6nqBZhoc #xlr8fusion https://t.co/pNzh8tfHJa\n",
      "Name: Text, dtype: object\n"
     ]
    }
   ],
   "source": [
    "pd.set_option('max_colwidth', 800)\n",
    "for x in range(0,6):\n",
    "    print(\"Topic \",x)\n",
    "    topic_x = df[df['LDA_Topic']=='5']\n",
    "    print(topic_x.sample(n=15)['Text'])"
   ]
  },
  {
   "cell_type": "code",
   "execution_count": null,
   "metadata": {},
   "outputs": [],
   "source": []
  }
 ],
 "metadata": {
  "kernelspec": {
   "display_name": "Python 3",
   "language": "python",
   "name": "python3"
  },
  "language_info": {
   "codemirror_mode": {
    "name": "ipython",
    "version": 3
   },
   "file_extension": ".py",
   "mimetype": "text/x-python",
   "name": "python",
   "nbconvert_exporter": "python",
   "pygments_lexer": "ipython3",
   "version": "3.7.2"
  }
 },
 "nbformat": 4,
 "nbformat_minor": 2
}
