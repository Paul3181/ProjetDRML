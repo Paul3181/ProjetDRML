{
 "cells": [
  {
   "cell_type": "code",
   "execution_count": 1,
   "metadata": {},
   "outputs": [],
   "source": [
    "import pandas as pd\n",
    "import numpy as np\n",
    "import json\n",
    "import csv"
   ]
  },
  {
   "cell_type": "code",
   "execution_count": 2,
   "metadata": {},
   "outputs": [],
   "source": [
    "filename = 'iot-tweets-2009-2016-complet-enrichie.tsv'"
   ]
  },
  {
   "cell_type": "code",
   "execution_count": 3,
   "metadata": {},
   "outputs": [],
   "source": [
    "# read file\n",
    "data = pd.read_csv(filename,sep='\\t', na_values=['null','None','',], dtype=object)"
   ]
  },
  {
   "cell_type": "markdown",
   "metadata": {},
   "source": [
    "# Graphe:  tweets - (reply to) -> tweets"
   ]
  },
  {
   "cell_type": "code",
   "execution_count": 5,
   "metadata": {},
   "outputs": [],
   "source": [
    "# list unique tweet id's\n",
    "tweets= set(data['TweetID'])"
   ]
  },
  {
   "cell_type": "code",
   "execution_count": 6,
   "metadata": {},
   "outputs": [
    {
     "data": {
      "text/plain": [
       "6705948"
      ]
     },
     "execution_count": 6,
     "metadata": {},
     "output_type": "execute_result"
    }
   ],
   "source": [
    "len(tweets)"
   ]
  },
  {
   "cell_type": "code",
   "execution_count": 17,
   "metadata": {},
   "outputs": [],
   "source": [
    "# relation tweet - (replyto) -> tweet\n",
    "replies = data[data['in_reply_to_status_id'].notnull()]"
   ]
  },
  {
   "cell_type": "code",
   "execution_count": 25,
   "metadata": {},
   "outputs": [
    {
     "name": "stdout",
     "output_type": "stream",
     "text": [
      "121170\n"
     ]
    },
    {
     "data": {
      "text/plain": [
       "(121170, 111474, 60848)"
      ]
     },
     "execution_count": 25,
     "metadata": {},
     "output_type": "execute_result"
    }
   ],
   "source": [
    "print(len(replies))\n",
    "totrows = list(replies['in_reply_to_status_id'])\n",
    "totrows2 = set(replies['in_reply_to_status_id'])\n",
    "# replies id's which are not in column TweetID\n",
    "tweets_not_in_corpus = totrows2-tweets\n",
    "len(totrows), len(totrows2), len(tweets_not_in_corpus)"
   ]
  },
  {
   "cell_type": "code",
   "execution_count": 34,
   "metadata": {},
   "outputs": [],
   "source": [
    "# get replies that are in the corpus\n",
    "replies2 = replies.loc[~replies['in_reply_to_status_id'].isin(tweets_not_in_corpus)]"
   ]
  },
  {
   "cell_type": "code",
   "execution_count": 35,
   "metadata": {},
   "outputs": [
    {
     "data": {
      "text/plain": [
       "57766"
      ]
     },
     "execution_count": 35,
     "metadata": {},
     "output_type": "execute_result"
    }
   ],
   "source": [
    "len(replies2)"
   ]
  },
  {
   "cell_type": "code",
   "execution_count": 40,
   "metadata": {},
   "outputs": [],
   "source": [
    "#create graph file\n",
    "filename2 = 'replies_tweet2.txt'\n",
    "n = len(tweets)\n",
    "m = len(replies2)\n",
    "f = open(filename2,'w')\n",
    "f.write(str(n) + \" \" + str(m) +\"\\n\")\n",
    "for t in tweets:\n",
    "    f.write(t+\"\\n\")\n",
    "for index,row in replies2.iterrows():\n",
    "    f.write(row['TweetID']+\" \"+row['in_reply_to_status_id']+\"\\n\")\n",
    "f.close()"
   ]
  },
  {
   "cell_type": "markdown",
   "metadata": {},
   "source": [
    "# Graphe: user - (reply to) -> user"
   ]
  },
  {
   "cell_type": "code",
   "execution_count": 54,
   "metadata": {},
   "outputs": [],
   "source": [
    "# map [tweetID] -> userID\n",
    "users = set(data[data['User_ID'].notnull()]['User_ID'])\n",
    "replies_users = data[data['in_reply_to_user_id'].notnull()]"
   ]
  },
  {
   "cell_type": "code",
   "execution_count": 55,
   "metadata": {},
   "outputs": [
    {
     "data": {
      "text/plain": [
       "(604049, 250061)"
      ]
     },
     "execution_count": 55,
     "metadata": {},
     "output_type": "execute_result"
    }
   ],
   "source": [
    "len(users), len(replies_users)"
   ]
  },
  {
   "cell_type": "code",
   "execution_count": 57,
   "metadata": {},
   "outputs": [
    {
     "name": "stdout",
     "output_type": "stream",
     "text": [
      "250061\n"
     ]
    },
    {
     "data": {
      "text/plain": [
       "(250061, 85802, 36491)"
      ]
     },
     "execution_count": 57,
     "metadata": {},
     "output_type": "execute_result"
    }
   ],
   "source": [
    "print(len(replies_users))\n",
    "totrows = list(replies_users['in_reply_to_user_id'])\n",
    "totrows2 = set(replies_users['in_reply_to_user_id'])\n",
    "# users id's which are not in column UserID\n",
    "users_not_in_corpus = totrows2-users\n",
    "len(totrows), len(totrows2), len(users_not_in_corpus)"
   ]
  },
  {
   "cell_type": "code",
   "execution_count": 59,
   "metadata": {},
   "outputs": [
    {
     "data": {
      "text/plain": [
       "250061"
      ]
     },
     "execution_count": 59,
     "metadata": {},
     "output_type": "execute_result"
    }
   ],
   "source": [
    "len(replies_users[replies_users['User_ID'].notnull()])"
   ]
  },
  {
   "cell_type": "code",
   "execution_count": 95,
   "metadata": {},
   "outputs": [],
   "source": [
    "# get users replied that are in the corpus\n",
    "replies_users2 = replies_users.loc[~replies_users['in_reply_to_user_id'].isin(users_not_in_corpus)]"
   ]
  },
  {
   "cell_type": "code",
   "execution_count": 96,
   "metadata": {},
   "outputs": [],
   "source": [
    "#create graph file\n",
    "filename3 = 'replies_user2.txt'\n",
    "n = len(users)\n",
    "m = len(replies_users)\n",
    "f = open(filename3,'w')\n",
    "f.write(str(n) + \" \" + str(m) +\"\\n\")\n",
    "for user in users:\n",
    "    f.write(user+\"\\n\")\n",
    "for index, row in replies_users2.iterrows():\n",
    "    f.write(row['User_ID'] + \" \" + row['in_reply_to_user_id'] +\"\\n\")\n",
    "f.close()"
   ]
  },
  {
   "cell_type": "markdown",
   "metadata": {},
   "source": [
    "## Map usernames"
   ]
  },
  {
   "cell_type": "code",
   "execution_count": null,
   "metadata": {},
   "outputs": [],
   "source": [
    "usersname = dict()\n",
    "tt= data[data['User_ID'].notnull()][['User_ID','User_Name']].drop_duplicates()\n",
    "for index,row in tt.iterrows():\n",
    "    usersname[row['User_ID']] = row['User_Name']"
   ]
  },
  {
   "cell_type": "code",
   "execution_count": 98,
   "metadata": {},
   "outputs": [],
   "source": [
    "#create graph file with usernames instead of IDs\n",
    "filename3 = 'replies_username.txt'\n",
    "n = len(users)\n",
    "m = len(replies_users)\n",
    "f = open(filename3,'w')\n",
    "f.write(str(n) + \" \" + str(m) +\"\\n\")\n",
    "for user in users:\n",
    "    f.write(usersname[user]+\"\\n\")\n",
    "for index, row in replies_users2.iterrows():\n",
    "    f.write(row['User_Name'] + \" \" + usersname[row['in_reply_to_user_id']] +\"\\n\")\n",
    "f.close()"
   ]
  },
  {
   "cell_type": "code",
   "execution_count": 84,
   "metadata": {},
   "outputs": [],
   "source": [
    "tt= data[data['User_ID'].notnull()][['User_ID','User_Name']].drop_duplicates()"
   ]
  },
  {
   "cell_type": "code",
   "execution_count": 85,
   "metadata": {},
   "outputs": [
    {
     "data": {
      "text/plain": [
       "(431716, 604049, 604478)"
      ]
     },
     "execution_count": 85,
     "metadata": {},
     "output_type": "execute_result"
    }
   ],
   "source": [
    "len(usersname), len(users), len(tt)"
   ]
  },
  {
   "cell_type": "code",
   "execution_count": 89,
   "metadata": {},
   "outputs": [
    {
     "data": {
      "text/plain": [
       "(604049, 604129)"
      ]
     },
     "execution_count": 89,
     "metadata": {},
     "output_type": "execute_result"
    }
   ],
   "source": [
    "len(set(tt['User_ID'])), len(set(tt['User_Name']))"
   ]
  },
  {
   "cell_type": "code",
   "execution_count": 94,
   "metadata": {},
   "outputs": [
    {
     "data": {
      "text/html": [
       "<div>\n",
       "<style scoped>\n",
       "    .dataframe tbody tr th:only-of-type {\n",
       "        vertical-align: middle;\n",
       "    }\n",
       "\n",
       "    .dataframe tbody tr th {\n",
       "        vertical-align: top;\n",
       "    }\n",
       "\n",
       "    .dataframe thead th {\n",
       "        text-align: right;\n",
       "    }\n",
       "</style>\n",
       "<table border=\"1\" class=\"dataframe\">\n",
       "  <thead>\n",
       "    <tr style=\"text-align: right;\">\n",
       "      <th></th>\n",
       "      <th>TweetID</th>\n",
       "      <th>Sentiment</th>\n",
       "      <th>TopicID</th>\n",
       "      <th>Country</th>\n",
       "      <th>Gender</th>\n",
       "      <th>URLs</th>\n",
       "      <th>Text</th>\n",
       "      <th>User_ID</th>\n",
       "      <th>User_Name</th>\n",
       "      <th>Date</th>\n",
       "      <th>Hashtags</th>\n",
       "      <th>in_reply_to_status_id</th>\n",
       "      <th>Indication</th>\n",
       "      <th>Retweeted</th>\n",
       "      <th>Geo</th>\n",
       "      <th>Location</th>\n",
       "      <th>in_reply_to_user_id</th>\n",
       "    </tr>\n",
       "  </thead>\n",
       "  <tbody>\n",
       "  </tbody>\n",
       "</table>\n",
       "</div>"
      ],
      "text/plain": [
       "Empty DataFrame\n",
       "Columns: [TweetID, Sentiment, TopicID, Country, Gender, URLs, Text, User_ID, User_Name, Date, Hashtags, in_reply_to_status_id, Indication, Retweeted, Geo, Location, in_reply_to_user_id]\n",
       "Index: []"
      ]
     },
     "execution_count": 94,
     "metadata": {},
     "output_type": "execute_result"
    }
   ],
   "source": [
    "data[data['User_ID']=='1208861']"
   ]
  },
  {
   "cell_type": "code",
   "execution_count": null,
   "metadata": {},
   "outputs": [],
   "source": []
  }
 ],
 "metadata": {
  "kernelspec": {
   "display_name": "Python 3",
   "language": "python",
   "name": "python3"
  },
  "language_info": {
   "codemirror_mode": {
    "name": "ipython",
    "version": 3
   },
   "file_extension": ".py",
   "mimetype": "text/x-python",
   "name": "python",
   "nbconvert_exporter": "python",
   "pygments_lexer": "ipython3",
   "version": "3.6.8"
  }
 },
 "nbformat": 4,
 "nbformat_minor": 2
}
